{
 "cells": [
  {
   "cell_type": "code",
   "execution_count": 2,
   "metadata": {},
   "outputs": [],
   "source": [
    "\n",
    "def write_tofile(keypair):\n",
    "    file2 = open(\"textvalue.txt\",\"a+\")    \n",
    "    file2.write(f\"{str(keypair)}\\n\")\n",
    "    \n",
    "def insert(a,b):    \n",
    "    pair = a,b\n",
    "    write_tofile(pair)   \n",
    "    print(\"Inserted \" + a,b)\n",
    "   "
   ]
  },
  {
   "cell_type": "code",
   "execution_count": 3,
   "metadata": {},
   "outputs": [
    {
     "name": "stdout",
     "output_type": "stream",
     "text": [
      "Inserted 1 Knud\n",
      "Inserted 2 sussie\n",
      "Inserted 3 Lena\n",
      "Inserted 4 Jens\n",
      "Inserted 6 jakob\n",
      "Inserted 9 Benjamin\n",
      "Inserted 10 Bent\n",
      "Inserted 10 Pernille\n",
      "Inserted 12 Sune\n",
      "Inserted 13 Klaus\n",
      "Inserted 15 Morten\n",
      "Inserted 16 Benny\n",
      "Inserted 17 Stine\n",
      "Inserted 18 Mia\n",
      "Inserted 20 Simon\n",
      "Inserted 110 Dorthe\n"
     ]
    }
   ],
   "source": [
    "insert(\"1\",\"Knud\")\n",
    "insert(\"2\",\"sussie\")\n",
    "insert(\"3\",\"Lena\")\n",
    "insert(\"4\",\"Jens\")\n",
    "insert(\"6\",\"jakob\")\n",
    "insert(\"9\",\"Benjamin\")\n",
    "insert(\"10\",\"Bent\")\n",
    "insert(\"10\",\"Pernille\")\n",
    "insert(\"12\",\"Sune\")\n",
    "insert(\"13\",\"Klaus\")\n",
    "insert(\"15\",\"Morten\")\n",
    "insert(\"16\",\"Benny\")\n",
    "insert(\"17\",\"Stine\")\n",
    "insert(\"18\",\"Mia\")\n",
    "insert(\"20\",\"Simon\")\n",
    "insert(\"110\",\"Dorthe\")"
   ]
  },
  {
   "cell_type": "code",
   "execution_count": 4,
   "metadata": {},
   "outputs": [],
   "source": [
    "def getvalue(key):\n",
    "    hashmap = {} \n",
    "   \n",
    "    character = 0   \n",
    "    numberOfLines = 0\n",
    "\n",
    "    getfile = open(\"textvalue.txt\",\"r\") \n",
    "   \n",
    "    for line in getfile:\n",
    "        \n",
    "        extractId = line.split(',')\n",
    "        unique = extractId[0]\n",
    "        unique = unique.replace('(','')\n",
    "        unique = unique.replace('\\'','')\n",
    "        name = extractId[1]\n",
    "       \n",
    "        name_length = len(name)\n",
    "        \n",
    "        eachline = line.split()\n",
    "        numberOfLines += 1\n",
    "        character += len(line)\n",
    "        \n",
    "        hashmap[unique]=character+1      \n",
    "        \n",
    "        if key == unique:\n",
    "            key = str(key)\n",
    "           \n",
    "            end = hashmap[key]\n",
    "            strpos = end - name_length                 \n",
    "            match = line[:end]                        \n",
    "            #print(match)\n",
    "            \n",
    "            div = match.split(',')\n",
    "            name = div[1]\n",
    "            name = name.replace('\\'','')\n",
    "            name = name.replace(')','')\n",
    "            \n",
    "            print(name)\n",
    "       "
   ]
  },
  {
   "cell_type": "code",
   "execution_count": 5,
   "metadata": {},
   "outputs": [
    {
     "name": "stdout",
     "output_type": "stream",
     "text": [
      " Knud\n",
      "\n"
     ]
    }
   ],
   "source": [
    "getvalue('1')"
   ]
  },
  {
   "cell_type": "code",
   "execution_count": null,
   "metadata": {},
   "outputs": [],
   "source": []
  }
 ],
 "metadata": {
  "kernelspec": {
   "display_name": "Python 3",
   "language": "python",
   "name": "python3"
  },
  "language_info": {
   "codemirror_mode": {
    "name": "ipython",
    "version": 3
   },
   "file_extension": ".py",
   "mimetype": "text/x-python",
   "name": "python",
   "nbconvert_exporter": "python",
   "pygments_lexer": "ipython3",
   "version": "3.6.5"
  }
 },
 "nbformat": 4,
 "nbformat_minor": 2
}
